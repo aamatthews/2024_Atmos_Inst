{
 "cells": [
  {
   "cell_type": "markdown",
   "metadata": {
    "id": "-jnV9NsA2YuE"
   },
   "source": [
    "Let's keep working through the example at the link, this time looking at another common use for radar data - Rain Rate.\n",
    "\n",
    "https://github.com/CSU-Radarmet/CSU_RadarTools/blob/master/notebooks/CSU_RadarTools_Demo.ipynb"
   ]
  },
  {
   "cell_type": "markdown",
   "metadata": {
    "id": "gK0tkdQgDE3V"
   },
   "source": [
    "Again, we will set up some initial functions, so we will just run the next lines to save time, but I encourage you to come back and look at them later!"
   ]
  },
  {
   "cell_type": "code",
   "execution_count": null,
   "metadata": {
    "id": "pQTs4RVE3Krs"
   },
   "outputs": [],
   "source": [
    "import numpy as np\n",
    "import matplotlib.pyplot as plt\n",
    "import matplotlib.colors as colors\n",
    "import pyart\n",
    "import glob\n",
    "from skewt import SkewT\n",
    "from csu_radartools import (csu_fhc, csu_liquid_ice_mass, csu_blended_rain, \n",
    "                            csu_dsd, csu_kdp, csu_misc, fundamentals)\n",
    "%matplotlib inline"
   ]
  },
  {
   "cell_type": "code",
   "execution_count": null,
   "metadata": {
    "id": "yIZjuNDZ9DYH"
   },
   "outputs": [],
   "source": [
    "def radar_coords_to_cart(rng, az, ele, debug=False):\n",
    "    \"\"\"\n",
    "    TJL - taken from old Py-ART version\n",
    "    Calculate Cartesian coordinate from radar coordinates\n",
    "    Parameters\n",
    "    ----------\n",
    "    rng : array\n",
    "        Distances to the center of the radar gates (bins) in kilometers.\n",
    "    az : array\n",
    "        Azimuth angle of the radar in degrees.\n",
    "    ele : array\n",
    "        Elevation angle of the radar in degrees.\n",
    "    Returns\n",
    "    -------\n",
    "    x, y, z : array\n",
    "        Cartesian coordinates in meters from the radar.\n",
    "    Notes\n",
    "    -----\n",
    "    The calculation for Cartesian coordinate is adapted from equations\n",
    "    2.28(b) and 2.28(c) of Doviak and Zrnic [1]_ assuming a\n",
    "    standard atmosphere (4/3 Earth's radius model).\n",
    "    .. math::\n",
    "        z = \\\\sqrt{r^2+R^2+r*R*sin(\\\\theta_e)} - R\n",
    "        s = R * arcsin(\\\\frac{r*cos(\\\\theta_e)}{R+z})\n",
    "        x = s * sin(\\\\theta_a)\n",
    "        y = s * cos(\\\\theta_a)\n",
    "    Where r is the distance from the radar to the center of the gate,\n",
    "    :math:\\\\theta_a is the azimuth angle, :math:\\\\theta_e is the\n",
    "    elevation angle, s is the arc length, and R is the effective radius\n",
    "    of the earth, taken to be 4/3 the mean radius of earth (6371 km).\n",
    "    References\n",
    "    ----------\n",
    "    .. [1] Doviak and Zrnic, Doppler Radar and Weather Observations, Second\n",
    "        Edition, 1993, p. 21.\n",
    "    \"\"\"\n",
    "    theta_e = ele * np.pi / 180.0  # elevation angle in radians.\n",
    "    theta_a = az * np.pi / 180.0  # azimuth angle in radians.\n",
    "    R = 6371.0 * 1000.0 * 4.0 / 3.0  # effective radius of earth in meters.\n",
    "    r = rng * 1000.0  # distances to gates in meters.\n",
    "\n",
    "    z = (r ** 2 + R ** 2 + 2.0 * r * R * np.sin(theta_e)) ** 0.5 - R\n",
    "    s = R * np.arcsin(r * np.cos(theta_e) / (R + z))  # arc length in m.\n",
    "    x = s * np.sin(theta_a)\n",
    "    y = s * np.cos(theta_a)\n",
    "    return x, y, z\n",
    "\n",
    "\n",
    "def get_z_from_radar(radar):\n",
    "    \"\"\"Input radar object, return z from radar (km, 2D)\"\"\"\n",
    "    azimuth_1D = radar.azimuth['data']\n",
    "    elevation_1D = radar.elevation['data']\n",
    "    srange_1D = radar.range['data']\n",
    "    sr_2d, az_2d = np.meshgrid(srange_1D, azimuth_1D)\n",
    "    el_2d = np.meshgrid(srange_1D, elevation_1D)[1]\n",
    "    xx, yy, zz = radar_coords_to_cart(sr_2d/1000.0, az_2d, el_2d)\n",
    "    return zz + radar.altitude['data']\n",
    "\n",
    "\n",
    "def check_sounding_for_montonic(sounding):\n",
    "    \"\"\"\n",
    "    So the sounding interpolation doesn't fail, force the sounding to behave\n",
    "    monotonically so that z always increases. This eliminates data from\n",
    "    descending balloons.\n",
    "    \"\"\"\n",
    "    snd_T = sounding.soundingdata['temp']  # In old SkewT, was sounding.data\n",
    "    snd_z = sounding.soundingdata['hght']  # In old SkewT, was sounding.data\n",
    "    dummy_z = []\n",
    "    dummy_T = []\n",
    "    if not snd_T.mask[0]: #May cause issue for specific soundings\n",
    "        dummy_z.append(snd_z[0])\n",
    "        dummy_T.append(snd_T[0])\n",
    "        for i, height in enumerate(snd_z):\n",
    "            if i > 0:\n",
    "                if snd_z[i] > snd_z[i-1] and not snd_T.mask[i]:\n",
    "                    dummy_z.append(snd_z[i])\n",
    "                    dummy_T.append(snd_T[i])\n",
    "        snd_z = np.array(dummy_z)\n",
    "        snd_T = np.array(dummy_T)\n",
    "    return snd_T, snd_z\n",
    "\n",
    "\n",
    "def interpolate_sounding_to_radar(sounding, radar):\n",
    "    \"\"\"Takes sounding data and interpolates it to every radar gate.\"\"\"\n",
    "    radar_z = get_z_from_radar(radar)\n",
    "    radar_T = None\n",
    "    snd_T, snd_z = check_sounding_for_montonic(sounding)\n",
    "    shape = np.shape(radar_z)\n",
    "    rad_z1d = radar_z.ravel()\n",
    "    rad_T1d = np.interp(rad_z1d, snd_z, snd_T)\n",
    "    return np.reshape(rad_T1d, shape), radar_z"
   ]
  },
  {
   "cell_type": "code",
   "execution_count": null,
   "metadata": {
    "id": "vFgptJTy9TwJ"
   },
   "outputs": [],
   "source": [
    "def add_field_to_radar_object(field, radar, field_name='FH', units='unitless', \n",
    "                              long_name='Hydrometeor ID', standard_name='Hydrometeor ID',\n",
    "                              dz_field='reflectivity'):\n",
    "    \"\"\"\n",
    "    Adds a newly created field to the Py-ART radar object. If reflectivity is a masked array,\n",
    "    make the new field masked the same as reflectivity.\n",
    "    \"\"\"\n",
    "    fill_value = -32768\n",
    "    masked_field = np.ma.asanyarray(field)\n",
    "    masked_field.mask = masked_field == fill_value\n",
    "    if hasattr(radar.fields[dz_field]['data'], 'mask'):\n",
    "        setattr(masked_field, 'mask', \n",
    "                np.logical_or(masked_field.mask, radar.fields[dz_field]['data'].mask))\n",
    "        fill_value = radar.fields[dz_field]['_FillValue']\n",
    "    field_dict = {'data': masked_field,\n",
    "                  'units': units,\n",
    "                  'long_name': long_name,\n",
    "                  'standard_name': standard_name,\n",
    "                  '_FillValue': fill_value}\n",
    "    radar.add_field(field_name, field_dict, replace_existing=True)\n",
    "    return radar"
   ]
  },
  {
   "cell_type": "code",
   "execution_count": null,
   "metadata": {
    "id": "cXz6ZFMk-px_"
   },
   "outputs": [],
   "source": [
    "def two_panel_plot_ppi(radar, sweep=0, var1='reflectivity', vmin1=0, vmax1=65,\n",
    "                   cmap1='RdYlBu_r', units1='dBZ', var2='differential_reflectivity',\n",
    "                   vmin2=-5, vmax2=5, cmap2='RdYlBu_r', units2='dB', return_flag=False,\n",
    "                   xlim=[-100,100], ylim=[-100,100]):\n",
    "    display = pyart.graph.RadarDisplay(radar)\n",
    "    fig = plt.figure(figsize=(13,5))\n",
    "    ax1 = fig.add_subplot(121)\n",
    "    display.plot_ppi(var1, sweep=sweep, vmin=vmin1, vmax=vmax1, cmap=cmap1, \n",
    "                     colorbar_label=units1, mask_outside=True)\n",
    "    display.set_limits(xlim=xlim, ylim=ylim)\n",
    "    ax2 = fig.add_subplot(122)\n",
    "    display.plot_ppi(var2, sweep=sweep, vmin=vmin2, vmax=vmax2, cmap=cmap2, \n",
    "                     colorbar_label=units2, mask_outside=True)\n",
    "    display.set_limits(xlim=xlim, ylim=ylim)\n",
    "    if return_flag:\n",
    "        return fig, ax1, ax2, display"
   ]
  },
  {
   "cell_type": "code",
   "execution_count": null,
   "metadata": {
    "id": "2-kZ8cPV-1t4"
   },
   "outputs": [],
   "source": [
    "def two_panel_plot_rhi(radar, sweep=0, var1='reflectivity', vmin1=0, vmax1=65,\n",
    "                   cmap1='RdYlBu_r', units1='dBZ', var2='differential_reflectivity',\n",
    "                   vmin2=-5, vmax2=5, cmap2='RdYlBu_r', units2='dB', return_flag=False,\n",
    "                   xlim=[-100,100], ylim=[-100,100]):\n",
    "    display = pyart.graph.RadarDisplay(radar)\n",
    "    fig = plt.figure(figsize=(13,5))\n",
    "    ax1 = fig.add_subplot(121)\n",
    "    display.plot_rhi(var1, sweep=sweep, vmin=vmin1, vmax=vmax1, cmap=cmap1, \n",
    "                     colorbar_label=units1, mask_outside=True)\n",
    "    display.set_limits(xlim=xlim, ylim=ylim)\n",
    "    ax2 = fig.add_subplot(122)\n",
    "    display.plot_rhi(var2, sweep=sweep, vmin=vmin2, vmax=vmax2, cmap=cmap2, \n",
    "                     colorbar_label=units2, mask_outside=True)\n",
    "    display.set_limits(xlim=xlim, ylim=ylim)\n",
    "    if return_flag:\n",
    "        return fig, ax1, ax2, display"
   ]
  },
  {
   "cell_type": "code",
   "execution_count": null,
   "metadata": {
    "id": "AYTvRwQM_iRQ"
   },
   "outputs": [],
   "source": [
    "hid_colors = ['White', 'LightBlue', 'MediumBlue', 'DarkOrange', 'LightPink',\n",
    "              'Cyan', 'DarkGray', 'Lime', 'Yellow', 'Red', 'Fuchsia']\n",
    "cmaphid = colors.ListedColormap(hid_colors)\n",
    "cmapmeth = colors.ListedColormap(hid_colors[0:6])\n",
    "cmapmeth_trop = colors.ListedColormap(hid_colors[0:7])\n",
    "\n",
    "def adjust_fhc_colorbar_for_pyart(cb):\n",
    "    cb.set_ticks(np.arange(1.4, 10, 0.9))\n",
    "    cb.ax.set_yticklabels(['Drizzle', 'Rain', 'Ice Crystals', 'Aggregates',\n",
    "                           'Wet Snow', 'Vertical Ice', 'LD Graupel',\n",
    "                           'HD Graupel', 'Hail', 'Big Drops'])\n",
    "    cb.ax.set_ylabel('')\n",
    "    cb.ax.tick_params(length=0)\n",
    "    return cb\n",
    "\n",
    "def adjust_meth_colorbar_for_pyart(cb, tropical=False):\n",
    "    if not tropical:\n",
    "        cb.set_ticks(np.arange(1.25, 5, 0.833))\n",
    "        cb.ax.set_yticklabels(['R(Kdp, Zdr)', 'R(Kdp)', 'R(Z, Zdr)', 'R(Z)', 'R(Zrain)'])\n",
    "    else:\n",
    "        cb.set_ticks(np.arange(1.3, 6, 0.85))\n",
    "        cb.ax.set_yticklabels(['R(Kdp, Zdr)', 'R(Kdp)', 'R(Z, Zdr)', 'R(Z_all)', 'R(Z_c)', 'R(Z_s)'])\n",
    "    cb.ax.set_ylabel('')\n",
    "    cb.ax.tick_params(length=0)\n",
    "    return cb"
   ]
  },
  {
   "cell_type": "markdown",
   "metadata": {
    "id": "yqdGm60Y9V0u"
   },
   "source": [
    "# RainRate"
   ]
  },
  {
   "cell_type": "markdown",
   "metadata": {
    "id": "DaneCovH5iyS"
   },
   "source": [
    "First, let's grab a file and run the HID on it, since it uses this to help determine rain from ice. I will run through this quickly, since we have already done this in the previous notebook. \n",
    "\n",
    "For simplicity, I will do this using the CSAPR data, but remember to calculate KDP if your radar doesn't include it!"
   ]
  },
  {
   "cell_type": "code",
   "execution_count": null,
   "metadata": {
    "id": "tQzyhAJM5fA_"
   },
   "outputs": [],
   "source": [
    "sndfile = 'LCH_sounding.txt'\n",
    "radarfile = 'houcsapr2cfrqcS2.b1/houcsapr2cfrqcS2.b1.20220701.192603.nc'\n",
    "radar = pyart.io.read(radarfile)\n",
    "print(radar.fields.keys())\n",
    "sounding = SkewT.Sounding(sndfile)"
   ]
  },
  {
   "cell_type": "code",
   "execution_count": null,
   "metadata": {
    "id": "F0YV0DqN68J3"
   },
   "outputs": [],
   "source": [
    "dz = radar.fields['reflectivity']['data']\n",
    "dr = radar.fields['differential_reflectivity']['data']\n",
    "kd = radar.fields['specific_differential_phase']['data']\n",
    "rh = radar.fields['copol_correlation_coeff']['data']"
   ]
  },
  {
   "cell_type": "code",
   "execution_count": null,
   "metadata": {
    "id": "thJvwxxP8vGr"
   },
   "outputs": [],
   "source": [
    "radar_T, radar_z = interpolate_sounding_to_radar(sounding, radar)"
   ]
  },
  {
   "cell_type": "code",
   "execution_count": null,
   "metadata": {
    "id": "BKOO1Eph88bV"
   },
   "outputs": [],
   "source": [
    "scores = csu_fhc.csu_fhc_summer(dz=dz, zdr=dr, rho=rh, kdp=kd, use_temp=True, band='C',\n",
    "                                T=radar_T)\n",
    "fh = scores -1"
   ]
  },
  {
   "cell_type": "code",
   "execution_count": null,
   "metadata": {
    "id": "PV_8SBvQ9JsR"
   },
   "outputs": [],
   "source": [
    "radar = add_field_to_radar_object(fh, radar)\n"
   ]
  },
  {
   "cell_type": "markdown",
   "metadata": {
    "id": "9pMYX_RC9kKm"
   },
   "source": [
    "Now that the HID is added to the file, we can continue with  the rain rate calculations."
   ]
  },
  {
   "cell_type": "markdown",
   "metadata": {
    "id": "zsZbEQMV9pjG"
   },
   "source": [
    "The CSU Radartools library has many options for calculating rain rate, from individual relations like Z-R or R(KDP), to more complicated ones. For the simple relationships, you can specify coefficients to ones you prefer, or use the defaults they chose from literature.\n",
    "\n",
    "There are two complex ones:\n",
    "1. calc_blended_rain - this funtion uses ZDP (difference reflectivity, Zh-Zv) to estimate ice fraction\n",
    "2. calc_hidro_rain - uses HID to find ice regions\n",
    "\n",
    "Outputs from both of the more complex methods contain both the rain rate and the method used at that particular gate."
   ]
  },
  {
   "cell_type": "markdown",
   "metadata": {
    "id": "Qa4BUBoAAGd1"
   },
   "source": [
    "## csu_hidro_rain"
   ]
  },
  {
   "cell_type": "code",
   "execution_count": null,
   "metadata": {
    "id": "G32cfR399L7Y"
   },
   "outputs": [],
   "source": [
    "rain, method = csu_blended_rain.csu_hidro_rain(\n",
    "    dz=dz, zdr=dr, kdp=kd, fhc=fh, band='C', thresh_dz=35, thresh_kdp=0.15,\n",
    "    r_z_a=200.0, r_z_b=1.4, r_kdp_a=29.71, r_kdp_b=0.85)\n",
    "radar = add_field_to_radar_object(rain, radar, field_name='rain_C', units='mm h-1',\n",
    "                                  long_name='HIDRO Rainfall Rate', \n",
    "                                  standard_name='Rainfall Rate')\n",
    "radar = add_field_to_radar_object(method, radar, field_name='method_C', units='',\n",
    "                                  long_name='HIDRO Rainfall Method', \n",
    "                                  standard_name='Rainfall Method')"
   ]
  },
  {
   "cell_type": "code",
   "execution_count": null,
   "metadata": {
    "id": "gvK8x8sU-hhM"
   },
   "outputs": [],
   "source": [
    "limx = [-100, 100]\n",
    "limy = [-100,100]\n",
    "fig, ax1, ax2, display = two_panel_plot_ppi(radar, sweep=0, var1='rain', vmin1=0, vmax1=150,\n",
    "                                        cmap1='GnBu', var2='method', vmin2=0, vmax2=5, \n",
    "                                        cmap2=cmapmeth, units2='', return_flag=True, \n",
    "                                        xlim=limx, ylim=limy, units1='mm h-1')\n",
    "display.cbs[1] = adjust_meth_colorbar_for_pyart(display.cbs[1])"
   ]
  },
  {
   "cell_type": "markdown",
   "metadata": {
    "id": "w41J6x18_54H"
   },
   "source": [
    "As you can see, the most used method in the rain rate calculation for this were R(Z) in meteorological echos, and R(KDP) in non-meteorological regions."
   ]
  },
  {
   "cell_type": "markdown",
   "metadata": {
    "id": "KpckFZ-RAVV0"
   },
   "source": [
    "## csu_blended_rain"
   ]
  },
  {
   "cell_type": "code",
   "execution_count": null,
   "metadata": {
    "id": "DBkSjoWJ_aMq"
   },
   "outputs": [],
   "source": [
    "rain, method, zdp, fi = csu_blended_rain.calc_blended_rain(dz=dz, zdr=dr, \n",
    "                                                           kdp=kd, ice_flag=True)\n",
    "radar = add_field_to_radar_object(rain, radar, field_name='rain_blend', units='mm h-1',\n",
    "                                  long_name='Blended Rainfall Rate', \n",
    "                                  standard_name='Rainfall Rate')\n",
    "radar = add_field_to_radar_object(method, radar, field_name='method_blend', units='',\n",
    "                                  long_name='Blended Rainfall Method', \n",
    "                                  standard_name='Rainfall Method')\n",
    "radar = add_field_to_radar_object(zdp, radar, field_name='ZDP', units='dB',\n",
    "                                  long_name='Difference Reflectivity',\n",
    "                                  standard_name='Difference Reflectivity')\n",
    "radar = add_field_to_radar_object(fi, radar, field_name='FI', units='', \n",
    "                                  long_name='Ice Fraction',\n",
    "                                  standard_name='Ice Fraction')"
   ]
  },
  {
   "cell_type": "code",
   "execution_count": null,
   "metadata": {
    "id": "6Z1U0qHOAZUN"
   },
   "outputs": [],
   "source": [
    "limx = [-100, 100]\n",
    "limy = [-100,100]\n",
    "fig, ax1, ax2, display = two_panel_plot_ppi(\n",
    "    radar, sweep=0, var1='rain_blend', vmin1=0, vmax1=150, cmap1='GnBu',\n",
    "    var2='method_blend', vmin2=0, vmax2=5, cmap2=cmapmeth, units2='',\n",
    "    return_flag=True, xlim=limx, ylim=limy, units1='mm h-1')\n",
    "display.cbs[1] = adjust_meth_colorbar_for_pyart(display.cbs[1])"
   ]
  },
  {
   "cell_type": "code",
   "execution_count": null,
   "metadata": {
    "id": "HkNn1PlEAojG"
   },
   "outputs": [],
   "source": [
    "limx = [-100, 100]\n",
    "limy = [-100,100]\n",
    "two_panel_plot_ppi(radar, sweep=0, var1='ZDP', units1='dB', vmin1=0, vmax1=65,\n",
    "               cmap1='cubehelix', var2='FI', vmin2=0, vmax2=1, \n",
    "               cmap2='YlOrRd_r', units2='', xlim=limx, ylim=limy)"
   ]
  },
  {
   "cell_type": "markdown",
   "metadata": {
    "id": "IYZOIHotA3Y2"
   },
   "source": [
    "Using this method, you can see that different methods were chosen to calculate the rain rate this time! "
   ]
  },
  {
   "cell_type": "markdown",
   "metadata": {
    "id": "dsF9h5uKCECs"
   },
   "source": [
    "In both algorithms, you can tell it which radar band you have - by default it assumes S band (like nexrads). \n",
    "\n",
    "Since C-band is often affected strongly by hail at ZDR, we need to make sure to tell it the radar band so it knows to not use methods that focus on that variable. Fortunately in our case, it appears this method wasn't used, but that won't always be the case. Telling it your radar band will also allow it to pick better coefficients for your radar!"
   ]
  },
  {
   "cell_type": "code",
   "execution_count": null,
   "metadata": {
    "id": "uarFo3TTBiuH"
   },
   "outputs": [],
   "source": []
  },
  {
   "cell_type": "code",
   "execution_count": null,
   "metadata": {
    "id": "Q--yZYDvClmt"
   },
   "outputs": [],
   "source": []
  }
 ],
 "metadata": {
  "colab": {
   "authorship_tag": "ABX9TyPDSQXEkejJf7D7A7vy7Ghe",
   "include_colab_link": true,
   "provenance": [],
   "toc_visible": true
  },
  "kernelspec": {
   "display_name": "Python [conda env:base] *",
   "language": "python",
   "name": "conda-base-py"
  },
  "language_info": {
   "codemirror_mode": {
    "name": "ipython",
    "version": 3
   },
   "file_extension": ".py",
   "mimetype": "text/x-python",
   "name": "python",
   "nbconvert_exporter": "python",
   "pygments_lexer": "ipython3",
   "version": "3.11.6"
  }
 },
 "nbformat": 4,
 "nbformat_minor": 4
}
