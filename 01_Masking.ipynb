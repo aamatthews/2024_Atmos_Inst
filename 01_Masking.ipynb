{
 "cells": [
  {
   "cell_type": "code",
   "execution_count": null,
   "metadata": {
    "id": "pEZWwmQMPME8"
   },
   "outputs": [],
   "source": [
    "import numpy as np\n",
    "import netCDF4 as nc\n",
    "import xarray as xr\n",
    "import pandas as pd\n",
    "\n",
    "import matplotlib.pyplot as plt\n",
    "%matplotlib inline"
   ]
  },
  {
   "cell_type": "markdown",
   "metadata": {
    "id": "oLwesHOHjWmS"
   },
   "source": [
    "# Introduction"
   ]
  },
  {
   "cell_type": "markdown",
   "metadata": {
    "id": "nVCYlQFbOJRG"
   },
   "source": [
    "As you may have noticed in the data we plotted previously, there was a lot of data that appeared to not be weather. \n",
    "\n",
    "In this next part, you will learn methods to hide or 'mask out' the non-meteorological data."
   ]
  },
  {
   "cell_type": "markdown",
   "metadata": {
    "id": "WCCslUI8jLM9"
   },
   "source": [
    "First, lets read in a data file, get a list of the variables, and plot reflectivity."
   ]
  },
  {
   "cell_type": "code",
   "execution_count": null,
   "metadata": {
    "id": "xAy8RrUwNooy"
   },
   "outputs": [],
   "source": [
    "ppi = xr.open_dataset('houcsapr2cfrqcS2.b1/houcsapr2cfrqcS2.b1.20220701.192603.nc', decode_times = False)\n",
    "ppi['time'] = pd.to_datetime(ppi['base_time'].values + ppi['time_offset'].values, unit='s')"
   ]
  },
  {
   "cell_type": "code",
   "execution_count": null,
   "metadata": {
    "id": "4CwTtJyWQTED"
   },
   "outputs": [],
   "source": [
    "list(ppi.variables.keys())"
   ]
  },
  {
   "cell_type": "code",
   "execution_count": null,
   "metadata": {
    "id": "Zgqh_ymRPKdn"
   },
   "outputs": [],
   "source": [
    "sweep_start = list(map(int,(ppi['sweep_start_ray_index'].data)))\n",
    "sweep_end = list(map(int,(ppi['sweep_end_ray_index'].data)))\n",
    "azi = ppi['azimuth'].data\n",
    "elv = ppi['elevation'].data\n",
    "r = ppi['range'].data\n",
    "\n",
    "y = np.outer(r, np.cos((azi)*np.pi/180.0))\n",
    "x = np.outer(r, np.sin((azi)*np.pi/180.0))\n",
    "sweep_num = 0\n",
    "\n",
    "\n",
    "sweep_num = 1\n",
    "#     print(sweep_num)\n",
    "plt.figure(figsize=(10,7.5))\n",
    "\n",
    "plt.pcolormesh(x[:,sweep_start[sweep_num]:sweep_end[sweep_num]].T,\n",
    "                y[:,sweep_start[sweep_num]:sweep_end[sweep_num]].T,\n",
    "                ppi['reflectivity'].data[sweep_start[sweep_num]:sweep_end[sweep_num],:], \n",
    "                vmin=-40, vmax=60, cmap='jet')\n",
    "clb = plt.colorbar()\n",
    "clb.set_label('Zh')\n",
    "plt.xlabel('E-W Distance from Radar (m)')\n",
    "plt.ylabel('N-S Distance from Radar (m)')\n",
    "elv_start = elv[sweep_start[sweep_num]+50]\n",
    "plt.title('Elevation: %f' % elv_start)"
   ]
  },
  {
   "cell_type": "markdown",
   "metadata": {
    "id": "td427QYdjgAw"
   },
   "source": [
    "# Masking"
   ]
  },
  {
   "cell_type": "markdown",
   "metadata": {
    "id": "14xB1RgwRJRy"
   },
   "source": [
    "One variable we often use to find the meteorological signal is Signal to Noise Ratio, as when this is higher there is less noise in the return."
   ]
  },
  {
   "cell_type": "code",
   "execution_count": null,
   "metadata": {
    "id": "fTU-9bP6QDPi"
   },
   "outputs": [],
   "source": [
    "plt.figure(figsize=(10,7.5))\n",
    "\n",
    "plt.pcolormesh(x[:,sweep_start[sweep_num]:sweep_end[sweep_num]].T,\n",
    "                y[:,sweep_start[sweep_num]:sweep_end[sweep_num]].T,\n",
    "                ppi['signal_to_noise_ratio_copolar_h'].data[sweep_start[sweep_num]:sweep_end[sweep_num],:], \n",
    "                vmin=-40, vmax=60, cmap='jet')\n",
    "clb = plt.colorbar()\n",
    "clb.set_label('SNR_h')\n",
    "plt.xlabel('E-W Distance from Radar (m)')\n",
    "plt.ylabel('N-S Distance from Radar (m)')\n",
    "elv_start = elv[sweep_start[sweep_num]+50]\n",
    "plt.title('Elevation: %f' % elv_start)"
   ]
  },
  {
   "cell_type": "markdown",
   "metadata": {
    "id": "ENXrP_6nkSbR"
   },
   "source": [
    "Let's also take a look at the noise floor using a histogram."
   ]
  },
  {
   "cell_type": "code",
   "execution_count": null,
   "metadata": {
    "id": "88J7dw4_jy2Z"
   },
   "outputs": [],
   "source": [
    "plt.hist(ppi['signal_to_noise_ratio_copolar_h'].data.flatten(), bins=100);"
   ]
  },
  {
   "cell_type": "markdown",
   "metadata": {
    "id": "Q9iKSm37RV8I"
   },
   "source": [
    "Based on these plots, what do you think would be a good SNR value to start with as our threshold?"
   ]
  },
  {
   "cell_type": "code",
   "execution_count": null,
   "metadata": {
    "id": "7iLIrWwMRFv7"
   },
   "outputs": [],
   "source": [
    "snr_thres = "
   ]
  },
  {
   "cell_type": "code",
   "execution_count": null,
   "metadata": {
    "id": "REpiJz-HQR6a"
   },
   "outputs": [],
   "source": [
    "mask_snr = np.zeros_like(ppi['signal_to_noise_ratio_copolar_h'].data)"
   ]
  },
  {
   "cell_type": "code",
   "execution_count": null,
   "metadata": {
    "id": "gO9A1_kRRCf0"
   },
   "outputs": [],
   "source": [
    "mask_snr[ppi['signal_to_noise_ratio_copolar_h'].data > snr_thres] = True"
   ]
  },
  {
   "cell_type": "code",
   "execution_count": null,
   "metadata": {
    "id": "Ge8_zLhQRugA"
   },
   "outputs": [],
   "source": [
    "mask_snr"
   ]
  },
  {
   "cell_type": "code",
   "execution_count": null,
   "metadata": {
    "id": "OFkvJuzfRDbr"
   },
   "outputs": [],
   "source": [
    "plt.figure(figsize=(10,7.5))\n",
    "\n",
    "plt.pcolormesh(x[:,sweep_start[sweep_num]:sweep_end[sweep_num]].T,\n",
    "                y[:,sweep_start[sweep_num]:sweep_end[sweep_num]].T,\n",
    "                mask_snr[sweep_start[sweep_num]:sweep_end[sweep_num],:], \n",
    "                vmin=0, vmax=1)\n",
    "clb = plt.colorbar()\n",
    "clb.set_label('SNR_mask')\n",
    "plt.xlabel('E-W Distance from Radar (m)')\n",
    "plt.ylabel('N-S Distance from Radar (m)')\n",
    "elv_start = elv[sweep_start[sweep_num]+50]\n",
    "plt.title('Elevation: %f' % elv_start)"
   ]
  },
  {
   "cell_type": "markdown",
   "metadata": {
    "id": "yIgPoPu1kbz3"
   },
   "source": [
    "As you can see, this only removes the true noise values from the data, but not all the returns that are non-meteorological. Let's go back and edit the above threshold to be higher. \n",
    "\n",
    "One issue with an SNR mask, and many masking methods in general, is that you have to balance removing background with not removing too much cloud. If you make the SNR threshold too high, then you can cut off the edges of the cloud. It all depends on what you are interested in for your research."
   ]
  },
  {
   "cell_type": "markdown",
   "metadata": {
    "id": "WUcxuKZJR9HJ"
   },
   "source": [
    "Let's plot RhoHV next and see if it can help us filter the data. \n"
   ]
  },
  {
   "cell_type": "markdown",
   "metadata": {
    "id": "h708jh2Vk5My"
   },
   "source": [
    "When working with new variables, it can be helpful to print the minumum and maximum values so you know what to set as your plot mins and maxes."
   ]
  },
  {
   "cell_type": "code",
   "execution_count": null,
   "metadata": {
    "id": "q8UKRp4kSXIt"
   },
   "outputs": [],
   "source": [
    "np.nanmin(ppi['copol_correlation_coeff'])"
   ]
  },
  {
   "cell_type": "code",
   "execution_count": null,
   "metadata": {
    "id": "MkyVpeZRSTou"
   },
   "outputs": [],
   "source": [
    "np.nanmax(ppi['copol_correlation_coeff'])"
   ]
  },
  {
   "cell_type": "code",
   "execution_count": null,
   "metadata": {
    "id": "ComhAcguR3ud"
   },
   "outputs": [],
   "source": [
    "plt.figure(figsize=(10,7.5))\n",
    "\n",
    "plt.pcolormesh(x[:,sweep_start[sweep_num]:sweep_end[sweep_num]].T,\n",
    "                y[:,sweep_start[sweep_num]:sweep_end[sweep_num]].T,\n",
    "                ppi['copol_correlation_coeff'].data[sweep_start[sweep_num]:sweep_end[sweep_num],:], \n",
    "                vmin=0, vmax=1, cmap='jet')\n",
    "clb = plt.colorbar()\n",
    "clb.set_label('RhoHV')\n",
    "plt.xlabel('E-W Distance from Radar (m)')\n",
    "plt.ylabel('N-S Distance from Radar (m)')\n",
    "elv_start = elv[sweep_start[sweep_num]+50]\n",
    "plt.title('Elevation: %f' % elv_start)"
   ]
  },
  {
   "cell_type": "markdown",
   "metadata": {
    "id": "ZcLXKuhclLXf"
   },
   "source": [
    "A RhoHV value for a metorological signal should be close to 1, as it is the correlation between the H and V returns. A rougher surface (like the ground, or a bird) will have a lower RhoHV value."
   ]
  },
  {
   "cell_type": "code",
   "execution_count": null,
   "metadata": {},
   "outputs": [],
   "source": [
    "plt.hist(ppi['copol_correlation_coeff'].data.flatten(), bins=100);"
   ]
  },
  {
   "cell_type": "markdown",
   "metadata": {
    "id": "zAgJ-oHVSgl5"
   },
   "source": [
    "Let's filter with a threshold of 0.95 to see how that looks, and we can increase that if we would like."
   ]
  },
  {
   "cell_type": "code",
   "execution_count": null,
   "metadata": {
    "id": "OIVz3sjsSPLn"
   },
   "outputs": [],
   "source": [
    "rhohv_thres = 0.95"
   ]
  },
  {
   "cell_type": "code",
   "execution_count": null,
   "metadata": {
    "id": "qQxqHNyySvLK"
   },
   "outputs": [],
   "source": [
    "mask_rhohv = np.zeros_like(ppi['copol_correlation_coeff'])"
   ]
  },
  {
   "cell_type": "code",
   "execution_count": null,
   "metadata": {
    "id": "2J4cPN37Sy2J"
   },
   "outputs": [],
   "source": [
    "mask_rhohv[ppi['copol_correlation_coeff'].data > rhohv_thres] = True"
   ]
  },
  {
   "cell_type": "code",
   "execution_count": null,
   "metadata": {
    "id": "m_-YumYwSzyZ"
   },
   "outputs": [],
   "source": [
    "plt.figure(figsize=(10,7.5))\n",
    "\n",
    "plt.pcolormesh(x[:,sweep_start[sweep_num]:sweep_end[sweep_num]].T,\n",
    "                y[:,sweep_start[sweep_num]:sweep_end[sweep_num]].T,\n",
    "                mask_rhohv[sweep_start[sweep_num]:sweep_end[sweep_num],:], \n",
    "                vmin=0, vmax=1)\n",
    "clb = plt.colorbar()\n",
    "clb.set_label('SNR_mask')\n",
    "plt.xlabel('E-W Distance from Radar (m)')\n",
    "plt.ylabel('N-S Distance from Radar (m)')\n",
    "elv_start = elv[sweep_start[sweep_num]+50]\n",
    "plt.title('Elevation: %f' % elv_start)"
   ]
  },
  {
   "cell_type": "markdown",
   "metadata": {
    "id": "nWzRMAMNTF4I"
   },
   "source": [
    "Wow! This filters out much more than the SNR mask did! What happens when we combine them?"
   ]
  },
  {
   "cell_type": "code",
   "execution_count": null,
   "metadata": {
    "id": "iMZKCfX7TES6"
   },
   "outputs": [],
   "source": [
    "mask_all = np.logical_and(mask_snr, mask_rhohv)"
   ]
  },
  {
   "cell_type": "code",
   "execution_count": null,
   "metadata": {
    "id": "sjUUHAh0TR9b"
   },
   "outputs": [],
   "source": [
    "plt.figure(figsize=[15,12.5])\n",
    "\n",
    "plt.subplot(221)\n",
    "\n",
    "plt.pcolormesh(x[:,sweep_start[sweep_num]:sweep_end[sweep_num]].T,\n",
    "                y[:,sweep_start[sweep_num]:sweep_end[sweep_num]].T,\n",
    "                mask_snr[sweep_start[sweep_num]:sweep_end[sweep_num],:], \n",
    "                vmin=0, vmax=1)\n",
    "clb = plt.colorbar()\n",
    "clb.set_label('Mask SNR')\n",
    "plt.xlabel('E-W Distance from Radar (m)')\n",
    "plt.ylabel('N-S Distance from Radar (m)')\n",
    "elv_start = elv[sweep_start[sweep_num]+50]\n",
    "plt.title('SNR Mask \\n Elevation: %f' % elv_start)\n",
    "\n",
    "plt.subplot(222)\n",
    "plt.pcolormesh(x[:,sweep_start[sweep_num]:sweep_end[sweep_num]].T,\n",
    "                y[:,sweep_start[sweep_num]:sweep_end[sweep_num]].T,\n",
    "                mask_rhohv[sweep_start[sweep_num]:sweep_end[sweep_num],:], \n",
    "                vmin=0, vmax=1)\n",
    "clb = plt.colorbar()\n",
    "clb.set_label('Mask Rhohv')\n",
    "plt.xlabel('E-W Distance from Radar (m)')\n",
    "plt.ylabel('N-S Distance from Radar (m)')\n",
    "elv_start = elv[sweep_start[sweep_num]+50]\n",
    "plt.title('RhoHV Mask \\n Elevation: %f' % elv_start)\n",
    "\n",
    "plt.subplot(223)\n",
    "plt.pcolormesh(x[:,sweep_start[sweep_num]:sweep_end[sweep_num]].T,\n",
    "                y[:,sweep_start[sweep_num]:sweep_end[sweep_num]].T,\n",
    "                mask_all[sweep_start[sweep_num]:sweep_end[sweep_num],:], \n",
    "                vmin=0, vmax=1)\n",
    "clb = plt.colorbar()\n",
    "clb.set_label('Mask')\n",
    "plt.xlabel('E-W Distance from Radar (m)')\n",
    "plt.ylabel('N-S Distance from Radar (m)')\n",
    "elv_start = elv[sweep_start[sweep_num]+50]\n",
    "plt.title('Combined Mask \\n Elevation: %f' % elv_start);"
   ]
  },
  {
   "cell_type": "markdown",
   "metadata": {
    "id": "xc2K5t1bgDWP"
   },
   "source": [
    "So, what does this look like when applied to the reflectivity?"
   ]
  },
  {
   "cell_type": "code",
   "execution_count": null,
   "metadata": {
    "id": "241S7mjUTVFr"
   },
   "outputs": [],
   "source": [
    "z_masked = np.ma.masked_where(mask_all == False, ppi['reflectivity'])"
   ]
  },
  {
   "cell_type": "code",
   "execution_count": null,
   "metadata": {
    "id": "qO8Ty5tBgUcR"
   },
   "outputs": [],
   "source": [
    "plt.figure(figsize=(14,5))\n",
    "\n",
    "plt.subplot(121)\n",
    "plt.pcolormesh(x[:,sweep_start[sweep_num]:sweep_end[sweep_num]].T,\n",
    "                y[:,sweep_start[sweep_num]:sweep_end[sweep_num]].T,\n",
    "                ppi['reflectivity'].data[sweep_start[sweep_num]:sweep_end[sweep_num],:], \n",
    "                vmin=-60, vmax=40, cmap='jet')\n",
    "clb = plt.colorbar()\n",
    "clb.set_label('Zh')\n",
    "plt.xlabel('E-W Distance from Radar (m)')\n",
    "plt.ylabel('N-S Distance from Radar (m)')\n",
    "elv_start = elv[sweep_start[sweep_num]+50]\n",
    "plt.title('Raw Reflectivity \\n Elevation: %f' % elv_start)\n",
    "\n",
    "\n",
    "plt.subplot(122)\n",
    "plt.pcolormesh(x[:,sweep_start[sweep_num]:sweep_end[sweep_num]].T,\n",
    "                y[:,sweep_start[sweep_num]:sweep_end[sweep_num]].T,\n",
    "                z_masked[sweep_start[sweep_num]:sweep_end[sweep_num],:], \n",
    "                vmin=-60, vmax=40, cmap='jet')\n",
    "clb = plt.colorbar()\n",
    "clb.set_label('Zh')\n",
    "plt.xlabel('E-W Distance from Radar (m)')\n",
    "plt.ylabel('N-S Distance from Radar (m)')\n",
    "elv_start = elv[sweep_start[sweep_num]+50]\n",
    "plt.title('Masked Reflectivity \\n Elevation: %f' % elv_start);"
   ]
  },
  {
   "cell_type": "markdown",
   "metadata": {
    "id": "r7PMsrVpg9kD"
   },
   "source": [
    "As you can see, this removes a good portion of the non-meteorological echo, but not all! There are still some extra features present, both likely clutter signals and possible second trip echos (an echo from a given pulse that is not received until after the transmission of the next pulse) \n",
    "\n"
   ]
  },
  {
   "cell_type": "markdown",
   "metadata": {
    "id": "_wZIE9rcmv61"
   },
   "source": [
    "# Exercise\n",
    "1. Are there any additional variables you think could be included in the mask? Test them out!\n",
    "\n",
    "2. Will the full mask you came up with work for the X and Ka bands as well? Or will the numbers we used here need to be modified? Test this on them!"
   ]
  },
  {
   "cell_type": "code",
   "execution_count": null,
   "metadata": {
    "id": "CgqUtffwgcF0"
   },
   "outputs": [],
   "source": []
  }
 ],
 "metadata": {
  "colab": {
   "authorship_tag": "ABX9TyNgeV1x3cjoszIpFZFGOYNJ",
   "include_colab_link": true,
   "provenance": [],
   "toc_visible": true
  },
  "kernelspec": {
   "display_name": "Python [conda env:base] *",
   "language": "python",
   "name": "conda-base-py"
  },
  "language_info": {
   "codemirror_mode": {
    "name": "ipython",
    "version": 3
   },
   "file_extension": ".py",
   "mimetype": "text/x-python",
   "name": "python",
   "nbconvert_exporter": "python",
   "pygments_lexer": "ipython3",
   "version": "3.11.6"
  }
 },
 "nbformat": 4,
 "nbformat_minor": 4
}
