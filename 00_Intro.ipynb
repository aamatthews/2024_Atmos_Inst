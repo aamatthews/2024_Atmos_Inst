{
 "cells": [
  {
   "cell_type": "markdown",
   "metadata": {
    "id": "pfljh8IPrSRc"
   },
   "source": [
    "# Hands on Radar Data, Part 1\n",
    "### Alyssa Matthews, Marqi Rocque, and Ya-Chien Feng"
   ]
  },
  {
   "cell_type": "markdown",
   "metadata": {},
   "source": [
    "## Please go to the ARM Jupyterhub page:\n",
    "## jupyterhub.arm.gov\n",
    "\n",
    "## Log in\n",
    "## Choose the ARM Short course 2024 option"
   ]
  },
  {
   "cell_type": "markdown",
   "metadata": {
    "id": "ZHyfNatGgSMM"
   },
   "source": [
    "## Setup"
   ]
  },
  {
   "cell_type": "markdown",
   "metadata": {
    "id": "RKHrhc-VruoB"
   },
   "source": [
    "Welcome to the hands on radar coding portion of the course! \n",
    "During or after the course, should you wish to access the notebooks again, you can find them here:\n",
    "\n",
    "https://github.com/aamatthews/2024_Atmos_Inst\n",
    "\n"
   ]
  },
  {
   "cell_type": "markdown",
   "metadata": {
    "id": "ud2836bBdlfx"
   },
   "source": [
    "Before we get started, there is a little setup we have to do first. \n",
    "\n",
    "In each notebook we will be using PyART, the Python ARM Radar Toolkit, which is a python package that is helpful for reading in, plotting, and contains multiple algorithms for digging in deeper to radar data.\n",
    "\n",
    "If you are new to Python and Jupyter Notebooks, the code can be split into chunks (cells) and each cell can be run separately. I find this especially useful for creating plots or to create the initial python code before transferring it to one big script.\n",
    "\n",
    "*   To run a cell, press shift+enter on your keyboard, or click the play button at the top menu of the screen"
   ]
  },
  {
   "cell_type": "markdown",
   "metadata": {
    "id": "sAr-XZVrgJPO"
   },
   "source": [
    "We will start with learning to read in and plot the various types of ARM radar data - Vertically Pointing, RHIs, and PPIs."
   ]
  },
  {
   "cell_type": "markdown",
   "metadata": {
    "id": "xJzlheQ_8216"
   },
   "source": [
    "Let's grab some data for today! \n",
    "To do this, we will use ACT, a python package in ARM that allows you to grab and work with data from the Data Discovery right in the notebook, no ordering necessary. I won't go into detail about this package here, as you will learn about it more tomorrow, but for now we will just use it as a way to access the data."
   ]
  },
  {
   "cell_type": "markdown",
   "metadata": {},
   "source": [
    "#### IMPORTANT!\n",
    "You will also need an account and token to download data using the ARM Live webservice. Navigate to the [webservice information page](https://adc.arm.gov/armlive/) and log in using your ARM login info to get your token. Your account username will be your ARM username."
   ]
  },
  {
   "cell_type": "code",
   "execution_count": null,
   "metadata": {
    "id": "xzkc-XuV9SHg"
   },
   "outputs": [],
   "source": [
    "import act"
   ]
  },
  {
   "cell_type": "code",
   "execution_count": null,
   "metadata": {
    "id": "68XtZrkSC3Dn"
   },
   "outputs": [],
   "source": [
    "# Set your username and token here!\n",
    "username = 'amatthews'\n",
    "token = '3b66c95f8109abb9'\n",
    "\n",
    "# Set the datastream and start/enddates\n",
    "datastream = 'houkazrcfrgeqcM1.b1'\n",
    "startdate = '2022-07-01T19:00:00'\n",
    "enddate = '2022-07-01T20:00:00'\n",
    "\n",
    "# Use ACT to easily download the data.  Watch for the data citation!  Show some support\n",
    "# for ARM's instrument experts and cite their data if you use it in a publication\n",
    "result = act.discovery.download_arm_data(username, token, datastream, startdate, enddate)"
   ]
  },
  {
   "cell_type": "markdown",
   "metadata": {
    "id": "kwBmCxcNddgl"
   },
   "source": [
    "Next, lets import the libraries we will need in this notebook. We will add more later in the course in future notebooks, but these are the basics I tend to use most often in my work."
   ]
  },
  {
   "cell_type": "code",
   "execution_count": null,
   "metadata": {
    "id": "HWuxKJPWqcL5"
   },
   "outputs": [],
   "source": [
    "import numpy as np\n",
    "import netCDF4 as nc\n",
    "import xarray as xr\n",
    "import pandas as pd\n",
    "import pyart\n",
    "\n",
    "import matplotlib.pyplot as plt\n",
    "%matplotlib inline"
   ]
  },
  {
   "cell_type": "markdown",
   "metadata": {
    "id": "0-m13o1qvGRm"
   },
   "source": [
    "# Reading in files\n",
    "\n",
    "In this section, I will show you three different ways you can read in files. Which you use really depends on which you prefer or which will work best for your needs."
   ]
  },
  {
   "cell_type": "markdown",
   "metadata": {
    "id": "G_c2G3Juials"
   },
   "source": [
    "### Option 1: NetCDF4 library \n",
    "\n",
    "For more information, you can view the documentation here:\n",
    "https://unidata.github.io/netcdf4-python/#Dataset.__init__"
   ]
  },
  {
   "cell_type": "code",
   "execution_count": null,
   "metadata": {
    "id": "oNBMYvf6vCj0"
   },
   "outputs": [],
   "source": [
    "data = nc.Dataset('houkazrcfrgeqcM1.b1/houkazrcfrgeqcM1.b1.20220701.190000.nc')"
   ]
  },
  {
   "cell_type": "markdown",
   "metadata": {
    "id": "dwvEJPXtjCkI"
   },
   "source": [
    "In the radar files, time is split into base time (the time at the start of the file) and time offset (the time since the file started). I like to save a combined timestamp of the two after reading in the data, as it can make the plots and data easier to interpret later on."
   ]
  },
  {
   "cell_type": "code",
   "execution_count": null,
   "metadata": {
    "id": "haEo0Fq9-KP3"
   },
   "outputs": [],
   "source": [
    "time =  pd.to_datetime(data.variables['base_time'][:] + data.variables['time_offset'][:], unit='s')"
   ]
  },
  {
   "cell_type": "code",
   "execution_count": null,
   "metadata": {
    "id": "0LhCfK8CjABI"
   },
   "outputs": [],
   "source": [
    "time[0:10]"
   ]
  },
  {
   "cell_type": "markdown",
   "metadata": {
    "id": "tr1cYdPljg9l"
   },
   "source": [
    "Once you have read in the data file, there are various levels you can look at. First, is the data class. This will include all the attributes (or metadata), as well as the variables stored in the file."
   ]
  },
  {
   "cell_type": "code",
   "execution_count": null,
   "metadata": {
    "id": "YcXXsAsoDFbY"
   },
   "outputs": [],
   "source": [
    "data"
   ]
  },
  {
   "cell_type": "markdown",
   "metadata": {
    "id": "D6d5T5Jgjtov"
   },
   "source": [
    "Often, it is useful just to see what the variable names are. You can see the full details of each variable with data.variables, but to see just a list of the variable names, you can add the keys() function."
   ]
  },
  {
   "cell_type": "code",
   "execution_count": null,
   "metadata": {
    "id": "MFK6pNZw_l8i"
   },
   "outputs": [],
   "source": [
    "list(data.variables.keys())"
   ]
  },
  {
   "cell_type": "markdown",
   "metadata": {
    "id": "_x9ZQ5AZj9mw"
   },
   "source": [
    "Once you know the name of a variable you want to look at, you can examine it to see the details of that variable, including a more detailed name, the dimension, and units. Lets take a look at Reflectivity."
   ]
  },
  {
   "cell_type": "code",
   "execution_count": null,
   "metadata": {
    "id": "yopA7cBTFF7w"
   },
   "outputs": [],
   "source": [
    "data.variables['reflectivity']"
   ]
  },
  {
   "cell_type": "markdown",
   "metadata": {
    "id": "LmCR6N6ekRDN"
   },
   "source": [
    "Finally, to view the data within the variable, you can add [:]"
   ]
  },
  {
   "cell_type": "code",
   "execution_count": null,
   "metadata": {
    "id": "AxhqMbX_1yrf"
   },
   "outputs": [],
   "source": [
    "data.variables['reflectivity'][:]"
   ]
  },
  {
   "cell_type": "markdown",
   "metadata": {
    "id": "1IOSVtnwqu53"
   },
   "source": [
    "Lets view a piece of the attributes or metadata. These are called directly from the dataset."
   ]
  },
  {
   "cell_type": "code",
   "execution_count": null,
   "metadata": {
    "id": "_KwnGNecq1Dv"
   },
   "outputs": [],
   "source": [
    "data.antenna_altitude"
   ]
  },
  {
   "cell_type": "markdown",
   "metadata": {
    "id": "YzewjqzYFNDt"
   },
   "source": [
    "### Option 2: Xarray library \n",
    "\n",
    "This is another library that can read in netCDF4 files. Data read in with this library is in a more pandas-like structure (for those familiar with pandas). You can view the documentation for reading in a file with xarray here: \n",
    "\n",
    "https://docs.xarray.dev/en/stable/generated/xarray.open_dataset.html#xarray.open_dataset\n",
    "\n",
    "An ability I particularly like within xarray is its ability to read in multiple data files at once and save them to one structure instead of having to read in each file individually. For this course, though, we will just be focusing on reading in one file at a time for simplicity. The documentation for this can be found at:\n",
    "\n",
    "https://docs.xarray.dev/en/stable/generated/xarray.open_mfdataset.html#xarray.open_mfdataset"
   ]
  },
  {
   "cell_type": "code",
   "execution_count": null,
   "metadata": {
    "id": "6R3mXW9FFI-K"
   },
   "outputs": [],
   "source": [
    "radar = xr.open_dataset('houkazrcfrgeqcM1.b1/houkazrcfrgeqcM1.b1.20220701.190000.nc', decode_times = False)"
   ]
  },
  {
   "cell_type": "markdown",
   "metadata": {
    "id": "wn0ema7p9LYF"
   },
   "source": [
    "One known issue in Xarray is how it handles the 'time' variable in the ARM radar files. To correct this, I overwrite that variable with the combined base_time + time_offset, as I showed previously in the netCDF4 example."
   ]
  },
  {
   "cell_type": "code",
   "execution_count": null,
   "metadata": {
    "id": "az6x53zb9HQB"
   },
   "outputs": [],
   "source": [
    "radar['time'] = pd.to_datetime(radar['base_time'].values + radar['time_offset'].values, unit='s')"
   ]
  },
  {
   "cell_type": "markdown",
   "metadata": {
    "id": "sFMJ-qhJm76e"
   },
   "source": [
    "To start digging into the data, lets first print the Dataset. As you can see, the output is much more condensed, with many options to expand the data to see what you are interested in. "
   ]
  },
  {
   "cell_type": "code",
   "execution_count": null,
   "metadata": {
    "id": "jxJo6n6m2xCg"
   },
   "outputs": [],
   "source": [
    "radar"
   ]
  },
  {
   "cell_type": "markdown",
   "metadata": {},
   "source": [
    "Here, you can click the arrows to expand each header, as well as the page or stack icon to get more info about the variables and data."
   ]
  },
  {
   "cell_type": "markdown",
   "metadata": {
    "id": "GnvSrHdWnK_H"
   },
   "source": [
    "Lets next get a list of the available variable names."
   ]
  },
  {
   "cell_type": "code",
   "execution_count": null,
   "metadata": {
    "id": "0saoZ94Q2x0O"
   },
   "outputs": [],
   "source": [
    "list(radar.variables.keys())"
   ]
  },
  {
   "cell_type": "markdown",
   "metadata": {
    "id": "2K5sdFSSnTIG"
   },
   "source": [
    "To see the details of a particular variable, you can either expand it out in the radar output, or can use a command identical to the one we used in the netCDF4 library example. Lets look at Reflectivity again, and at the data within that variable."
   ]
  },
  {
   "cell_type": "code",
   "execution_count": null,
   "metadata": {
    "id": "egH393rJ20M3"
   },
   "outputs": [],
   "source": [
    "\n",
    "radar.variables['reflectivity']"
   ]
  },
  {
   "cell_type": "markdown",
   "metadata": {
    "id": "Dd0qAZMppxzF"
   },
   "source": [
    "To view the data within the variable, you can add .data or .values to the end of the variable."
   ]
  },
  {
   "cell_type": "code",
   "execution_count": null,
   "metadata": {
    "id": "3Ns7aCzh25y3"
   },
   "outputs": [],
   "source": [
    "radar.variables['reflectivity'].data"
   ]
  },
  {
   "cell_type": "markdown",
   "metadata": {
    "id": "O_wP2CP8rFfA"
   },
   "source": [
    "Viewing an attribute is done similarly to what we learned in the netCDF4 library example."
   ]
  },
  {
   "cell_type": "code",
   "execution_count": null,
   "metadata": {
    "id": "WQTxap-1rLk2"
   },
   "outputs": [],
   "source": [
    "radar.antenna_diameter"
   ]
  },
  {
   "cell_type": "markdown",
   "metadata": {
    "id": "xxhEKrrqnl5k"
   },
   "source": [
    "### Option 3: PyART\n",
    "\n",
    "The PyART package can read in many different types of radar files. You can view its documentation at: \n",
    "\n",
    "https://arm-doe.github.io/pyart/"
   ]
  },
  {
   "cell_type": "code",
   "execution_count": null,
   "metadata": {
    "id": "uRnLF2wLoEst"
   },
   "outputs": [],
   "source": [
    "radar = pyart.io.read('houkazrcfrgeqcM1.b1/houkazrcfrgeqcM1.b1.20220701.190000.nc')"
   ]
  },
  {
   "cell_type": "markdown",
   "metadata": {
    "id": "r2CKusM7pB6y"
   },
   "source": [
    "Lets view the information about this radar object. This will show us the variables and their information at the top, and the attributes and metadata at the bottom."
   ]
  },
  {
   "cell_type": "code",
   "execution_count": null,
   "metadata": {
    "id": "X6-jKNHco1Sg"
   },
   "outputs": [],
   "source": [
    "radar.info()"
   ]
  },
  {
   "cell_type": "markdown",
   "metadata": {
    "id": "gSem11WNpUe0"
   },
   "source": [
    "One difference between PyART and the netCDF4 or Xarray libraries is that PyART calls the data names 'fields' instead of 'variables'. Lets view them now."
   ]
  },
  {
   "cell_type": "code",
   "execution_count": null,
   "metadata": {
    "id": "X-y4nN9LpQFE"
   },
   "outputs": [],
   "source": [
    "list(radar.fields.keys())"
   ]
  },
  {
   "cell_type": "code",
   "execution_count": null,
   "metadata": {
    "id": "ngcIQrB6pnzN"
   },
   "outputs": [],
   "source": [
    "radar.fields['reflectivity']"
   ]
  },
  {
   "cell_type": "markdown",
   "metadata": {
    "id": "nY3eDcPapuQv"
   },
   "source": [
    "To view the data within the variable, you just add ['data'] to the end of the field."
   ]
  },
  {
   "cell_type": "code",
   "execution_count": null,
   "metadata": {
    "id": "lvVSKNrspq3a"
   },
   "outputs": [],
   "source": [
    "radar.fields['reflectivity']['data']"
   ]
  },
  {
   "cell_type": "markdown",
   "metadata": {
    "id": "N2B-5LFUrSQB"
   },
   "source": [
    "Viewing the attributes or metadata is done a little differently to the other two examples when using PyART"
   ]
  },
  {
   "cell_type": "code",
   "execution_count": null,
   "metadata": {
    "id": "hp5yHQWergTR"
   },
   "outputs": [],
   "source": [
    "radar.metadata['antenna_altitude']"
   ]
  },
  {
   "cell_type": "markdown",
   "metadata": {
    "id": "sfuL5W5B4PqJ"
   },
   "source": [
    "## Exercise 1\n",
    "Order up to an hour from TRACER using ACT for one of the following datastreams (you can order more, but it takes time and will take up space in your directory):\n",
    "houxsacrcfrqcM1.b1 (XSACR)\n",
    "houkasacrcfrqcM1.b1 (KASACR)\n",
    "houcsapr2cfrqcS2.b1 (CSAPR2)\n",
    "\n",
    "Pick one of the methods I showed above and read in a file you just ordered.\n",
    "\n",
    "Can you find the scan type for that file in the data?"
   ]
  },
  {
   "cell_type": "markdown",
   "metadata": {
    "id": "RB5dYstuqK-M"
   },
   "source": [
    "### Hint"
   ]
  },
  {
   "cell_type": "markdown",
   "metadata": {
    "id": "LrC0iPf4gpYg"
   },
   "source": [
    "it is an attribute or metadata, and not a variable"
   ]
  },
  {
   "cell_type": "markdown",
   "metadata": {
    "id": "nDJyeEZBuUtn"
   },
   "source": [
    ":)"
   ]
  },
  {
   "cell_type": "markdown",
   "metadata": {
    "id": "a5v8jh2oqRUz"
   },
   "source": [
    "### Solutions\n",
    "* Please run the command for any of the datastreams you did not already grab data for below, as we will use it in later notebooks! (rerunning one you already did will not cause any issues or create duplicate files)"
   ]
  },
  {
   "cell_type": "code",
   "execution_count": null,
   "metadata": {},
   "outputs": [],
   "source": [
    "datastream = 'houkasacrcfrqcM1.b1'\n",
    "startdate = '2022-07-01T19:00:00'\n",
    "enddate = '2022-07-01T20:00:00'\n",
    "\n",
    "result = act.discovery.download_arm_data(username, token, datastream, startdate, enddate)"
   ]
  },
  {
   "cell_type": "code",
   "execution_count": null,
   "metadata": {},
   "outputs": [],
   "source": [
    "datastream = 'houxsacrcfrqcM1.b1'\n",
    "startdate = '2022-07-01T19:00:00'\n",
    "enddate = '2022-07-01T20:00:00'\n",
    "\n",
    "result = act.discovery.download_arm_data(username, token, datastream, startdate, enddate)"
   ]
  },
  {
   "cell_type": "code",
   "execution_count": null,
   "metadata": {},
   "outputs": [],
   "source": [
    "datastream = 'houcsapr2cfrqcS2.b1'\n",
    "startdate = '2022-07-01T19:00:00'\n",
    "enddate = '2022-07-01T20:00:00'\n",
    "\n",
    "result = act.discovery.download_arm_data(username, token, datastream, startdate, enddate)"
   ]
  },
  {
   "cell_type": "code",
   "execution_count": null,
   "metadata": {
    "id": "1Mxx2lbu4_JN"
   },
   "outputs": [],
   "source": [
    "data = xr.open_dataset('houcsapr2cfrqcS2.b1/houcsapr2cfrqcS2.b1.20220701.192028.nc')"
   ]
  },
  {
   "cell_type": "code",
   "execution_count": null,
   "metadata": {
    "id": "QTqst4iY5RAs"
   },
   "outputs": [],
   "source": [
    "data.scan_name"
   ]
  },
  {
   "cell_type": "code",
   "execution_count": null,
   "metadata": {
    "id": "aU4S5XYvqZb9"
   },
   "outputs": [],
   "source": [
    "data = nc.Dataset('houcsapr2cfrqcS2.b1/houcsapr2cfrqcS2.b1.20220701.192028.nc')"
   ]
  },
  {
   "cell_type": "code",
   "execution_count": null,
   "metadata": {
    "id": "U4y2H-hLqeWq"
   },
   "outputs": [],
   "source": [
    "data.scan_name"
   ]
  },
  {
   "cell_type": "code",
   "execution_count": null,
   "metadata": {
    "id": "9VvrCHV8qg5B"
   },
   "outputs": [],
   "source": [
    "data = pyart.io.read('houcsapr2cfrqcS2.b1/houcsapr2cfrqcS2.b1.20220701.192028.nc')"
   ]
  },
  {
   "cell_type": "code",
   "execution_count": null,
   "metadata": {
    "id": "mvpP5BseqkjZ"
   },
   "outputs": [],
   "source": [
    "data.metadata['scan_name']"
   ]
  },
  {
   "cell_type": "markdown",
   "metadata": {
    "id": "W7QC1zUI3812"
   },
   "source": [
    "# Now, lets plot some data!\n"
   ]
  },
  {
   "cell_type": "markdown",
   "metadata": {
    "id": "mfCXyEgUazwa"
   },
   "source": [
    "The ARM scanning radars have the ability to scan in multiple ways. Here, we will go over various methods for plotting the most common scan types. First I will show a method with no specialized libraries, then I will show a method using PyART.\n",
    "\n",
    "![radar scan image](https://journals.ametsoc.org/view/journals/atot/31/3/images/full-jtech-d-13-00044_1-f3.jpg)"
   ]
  },
  {
   "cell_type": "markdown",
   "metadata": {},
   "source": [
    "## Plot Scan Strategy\n",
    "First, lets plot a way to view the scan elevations to see what the radar was doing for each PPI or RHI set"
   ]
  },
  {
   "cell_type": "code",
   "execution_count": null,
   "metadata": {},
   "outputs": [],
   "source": [
    "import wradlib as wrl\n",
    "import os"
   ]
  },
  {
   "cell_type": "code",
   "execution_count": null,
   "metadata": {},
   "outputs": [],
   "source": [
    "data = xr.open_dataset('houcsapr2cfrqcS2.b1/houcsapr2cfrqcS2.b1.20220701.192603.nc')"
   ]
  },
  {
   "cell_type": "code",
   "execution_count": null,
   "metadata": {},
   "outputs": [],
   "source": [
    "data.scan_name"
   ]
  },
  {
   "cell_type": "code",
   "execution_count": null,
   "metadata": {},
   "outputs": [],
   "source": [
    "ranges = data.range.data\n",
    "elevs = [0.5, 1.5, 3]\n",
    "site = (-95.284, 29.52, 12)\n",
    "beamwidth = 0.9"
   ]
  },
  {
   "cell_type": "code",
   "execution_count": null,
   "metadata": {},
   "outputs": [],
   "source": [
    "data.fixed_angle.data"
   ]
  },
  {
   "cell_type": "code",
   "execution_count": null,
   "metadata": {},
   "outputs": [],
   "source": [
    "#Update beam width to match radar\n",
    "ax = wrl.vis.plot_scan_strategy(ranges, elevs, site, units='km', \n",
    "                                maxalt=8000.0, beamwidth=1.25, \n",
    "                                )"
   ]
  },
  {
   "cell_type": "markdown",
   "metadata": {},
   "source": [
    "### Set up environment\n",
    "#### To get earthdata bearer token: \n",
    "- Create free account here: https://urs.earthdata.nasa.gov/home\n",
    "- click Generate Token\n",
    "- copy token to the line below, inside the quotes"
   ]
  },
  {
   "cell_type": "code",
   "execution_count": null,
   "metadata": {},
   "outputs": [],
   "source": [
    "os.environ[\"WRADLIB_EARTHDATA_BEARER_TOKEN\"] = \"\""
   ]
  },
  {
   "cell_type": "markdown",
   "metadata": {},
   "source": [
    "Create a folder called wradlib_data in this directory. Wradlib will grab some terrain data from the web and store it here."
   ]
  },
  {
   "cell_type": "code",
   "execution_count": null,
   "metadata": {},
   "outputs": [],
   "source": [
    "os.environ[\"WRADLIB_DATA\"] = \"/data/home/amatthews/Teaching/2024_inst_course/wradlib_data\""
   ]
  },
  {
   "cell_type": "code",
   "execution_count": null,
   "metadata": {},
   "outputs": [],
   "source": [
    "has_data = os.environ.get(\"WRADLIB_EARTHDATA_BEARER_TOKEN\", False)"
   ]
  },
  {
   "cell_type": "code",
   "execution_count": null,
   "metadata": {},
   "outputs": [],
   "source": [
    "if has_data:\n",
    "    #Create plot of elevations of PPI. \n",
    "    #Update azimuth to be the azimuth you want (ie, over KAZR, over a particular mountain, etc)\n",
    "    ax = wrl.vis.plot_scan_strategy(\n",
    "        ranges, elevs, site, units=\"km\", terrain=True, maxalt = 8000, az=328\n",
    "    )\n"
   ]
  },
  {
   "cell_type": "markdown",
   "metadata": {
    "id": "F5SnJkf44ATs"
   },
   "source": [
    "## Vertically pointing data (VPT)"
   ]
  },
  {
   "cell_type": "markdown",
   "metadata": {
    "id": "hKgF0Yi0bgKK"
   },
   "source": [
    "### Method 1"
   ]
  },
  {
   "cell_type": "code",
   "execution_count": null,
   "metadata": {
    "id": "uR7ag88n4Heb"
   },
   "outputs": [],
   "source": [
    "kazr = xr.open_dataset('houkazrcfrgeqcM1.b1/houkazrcfrgeqcM1.b1.20220701.190000.nc', decode_times = False)\n",
    "# kazr['time'] = pd.to_datetime(kazr['base_time'].values + kazr['time_offset'].values, unit='s')"
   ]
  },
  {
   "cell_type": "code",
   "execution_count": null,
   "metadata": {
    "id": "lEsfMe-d8BMp"
   },
   "outputs": [],
   "source": [
    "plt.figure(figsize=(15,5))\n",
    "plt.pcolormesh(kazr['time'], kazr['range'], kazr['reflectivity'].T, cmap = 'jet', vmin=-20, vmax=40)\n",
    "plt.colorbar(label = 'Reflectivity (dBZ)')\n",
    "plt.xlabel('Time')\n",
    "plt.ylabel('Height (m)')\n",
    "plt.title('KAZR Reflectivity');"
   ]
  },
  {
   "cell_type": "markdown",
   "metadata": {
    "id": "-Fkb0SsMb0tS"
   },
   "source": [
    "### Method 2: PyART"
   ]
  },
  {
   "cell_type": "code",
   "execution_count": null,
   "metadata": {
    "id": "RoHeg21kb4MP"
   },
   "outputs": [],
   "source": [
    "radar = pyart.io.read('houkazrcfrgeqcM1.b1/houkazrcfrgeqcM1.b1.20220701.190000.nc')"
   ]
  },
  {
   "cell_type": "code",
   "execution_count": null,
   "metadata": {
    "id": "62jFKeSKb_m-"
   },
   "outputs": [],
   "source": [
    "\n",
    "display = pyart.graph.RadarDisplay(radar)\n",
    "fig = plt.figure(figsize=[8,4])\n",
    "display.plot_vpt('reflectivity', vmin=-20, vmax=40)\n"
   ]
  },
  {
   "cell_type": "markdown",
   "metadata": {
    "id": "NeuXi04qDx_G"
   },
   "source": [
    "## RHI or HSRHI"
   ]
  },
  {
   "cell_type": "markdown",
   "metadata": {
    "id": "WbVY_B0LebhY"
   },
   "source": [
    "### Method 1"
   ]
  },
  {
   "cell_type": "code",
   "execution_count": null,
   "metadata": {
    "id": "iUbzAY-o8Tqa"
   },
   "outputs": [],
   "source": [
    "csapr = xr.open_dataset('houcsapr2cfrqcS2.b1/houcsapr2cfrqcS2.b1.20220701.192028.nc', decode_times = False)\n",
    "# csapr['time'] = pd.to_datetime(csapr['base_time'].values + csapr['time_offset'].values, unit='s')"
   ]
  },
  {
   "cell_type": "code",
   "execution_count": null,
   "metadata": {
    "id": "loJOrfwR8XR5"
   },
   "outputs": [],
   "source": [
    "csapr.scan_name"
   ]
  },
  {
   "cell_type": "code",
   "execution_count": null,
   "metadata": {
    "id": "rzxdeRoYFXyX"
   },
   "outputs": [],
   "source": [
    "sweep_start = list(map(int,(csapr['sweep_start_ray_index'].data)))\n",
    "sweep_end = list(map(int,(csapr['sweep_end_ray_index'].data)))\n",
    "azi = csapr['azimuth'].data\n",
    "elv = csapr['elevation'].data\n",
    "r = csapr['range'].data\n",
    "\n",
    "y = np.outer(r, np.sin((elv)*np.pi/180.0))\n",
    "x = np.outer(r, np.cos((elv)*np.pi/180.0))\n",
    "sweep_num = 0\n",
    "\n",
    "\n",
    "\n",
    "for i in range(len(sweep_start)):\n",
    "    sweep_num = i\n",
    "#     print(sweep_num)\n",
    "    plt.figure(figsize=(20,40))\n",
    "    plt.subplot(6,1,1)\n",
    "    plt.pcolormesh(x[:,sweep_start[sweep_num]:sweep_end[sweep_num]].T,\n",
    "                   y[:,sweep_start[sweep_num]:sweep_end[sweep_num]].T,\n",
    "                   csapr['reflectivity'].data[sweep_start[sweep_num]:sweep_end[sweep_num],:], \n",
    "                   vmin=-60, vmax=50, cmap='jet')\n",
    "    clb = plt.colorbar()\n",
    "    clb.set_label('Zh')\n",
    "    plt.xlabel('Horizontal Distance from Radar (m)')\n",
    "    plt.ylabel('Height (m)')\n",
    "    azi_start = np.nanmedian(azi[sweep_start[sweep_num]])\n",
    "    plt.title('Azimuth: %f ' % azi_start)\n",
    "    plt.ylim(0,20000)\n"
   ]
  },
  {
   "cell_type": "markdown",
   "metadata": {
    "id": "UvhkymS2eewZ"
   },
   "source": [
    "### Method 2: PyART"
   ]
  },
  {
   "cell_type": "code",
   "execution_count": null,
   "metadata": {
    "id": "2m3IrmQbeeA_"
   },
   "outputs": [],
   "source": [
    "radar = pyart.io.read('houcsapr2cfrqcS2.b1/houcsapr2cfrqcS2.b1.20220701.192028.nc')"
   ]
  },
  {
   "cell_type": "code",
   "execution_count": null,
   "metadata": {
    "id": "C6pRKC61emG8"
   },
   "outputs": [],
   "source": [
    "display = pyart.graph.RadarDisplay(radar)\n",
    "fig = plt.figure(figsize=[10, 5])\n",
    "\n",
    "display.plot('reflectivity', 0, vmin=-60, vmax=50.0) #Format is (field, sweep number, minimum value of colorbar, maximum value of colorbar)\n",
    "# plt.ylim(0,20)"
   ]
  },
  {
   "cell_type": "markdown",
   "metadata": {
    "id": "FxuqojFGJZx7"
   },
   "source": [
    "## PPI\n",
    "\n",
    "\n",
    "\n"
   ]
  },
  {
   "cell_type": "markdown",
   "metadata": {
    "id": "1iTJQ6rmfPj4"
   },
   "source": [
    "### Method 1"
   ]
  },
  {
   "cell_type": "markdown",
   "metadata": {
    "id": "1jmyoopxJtHS"
   },
   "source": [
    "This is very similar to the RHI, except instead of y using azimuth, you use elevation and flip from cos to sin (or vice versa)"
   ]
  },
  {
   "cell_type": "code",
   "execution_count": null,
   "metadata": {
    "id": "F26kuabRJ9H6"
   },
   "outputs": [],
   "source": [
    "ppi = xr.open_dataset('houcsapr2cfrqcS2.b1/houcsapr2cfrqcS2.b1.20220701.192603.nc', decode_times = False)"
   ]
  },
  {
   "cell_type": "code",
   "execution_count": null,
   "metadata": {
    "id": "AABgxeepKX4v"
   },
   "outputs": [],
   "source": [
    "ppi.scan_name"
   ]
  },
  {
   "cell_type": "code",
   "execution_count": null,
   "metadata": {
    "id": "pGsAlxWAJbXn"
   },
   "outputs": [],
   "source": [
    "sweep_start = list(map(int,(ppi['sweep_start_ray_index'].data)))\n",
    "sweep_end = list(map(int,(ppi['sweep_end_ray_index'].data)))\n",
    "azi = ppi['azimuth'].data\n",
    "elv = ppi['elevation'].data\n",
    "r = ppi['range'].data\n",
    "\n",
    "y = np.outer(r, np.cos((azi)*np.pi/180.0))\n",
    "x = np.outer(r, np.sin((azi)*np.pi/180.0))\n",
    "sweep_num = 0\n",
    "\n",
    "for i in range(len(sweep_start)):\n",
    "    sweep_num = i\n",
    "#     print(sweep_num)\n",
    "    plt.figure(figsize=(10,7.5))\n",
    "\n",
    "    plt.pcolormesh(x[:,sweep_start[sweep_num]:sweep_end[sweep_num]].T,\n",
    "                   y[:,sweep_start[sweep_num]:sweep_end[sweep_num]].T,\n",
    "                   ppi['reflectivity'].data[sweep_start[sweep_num]:sweep_end[sweep_num],:], \n",
    "                   vmin=-60, vmax=50, cmap='jet')\n",
    "    clb = plt.colorbar()\n",
    "    clb.set_label('Zh')\n",
    "    plt.xlabel('E-W Distance from Radar (m)')\n",
    "    plt.ylabel('N-S Distance from Radar (m)')\n",
    "    elv_start = elv[sweep_start[sweep_num]+50]\n",
    "    plt.title('Elevation: %f' % elv_start)"
   ]
  },
  {
   "cell_type": "markdown",
   "metadata": {
    "id": "uzKVpT7-n1Vn"
   },
   "source": [
    "### Method 2: PyART"
   ]
  },
  {
   "cell_type": "code",
   "execution_count": null,
   "metadata": {
    "id": "tqohmKzkfa0p"
   },
   "outputs": [],
   "source": [
    "radar = pyart.io.read('houcsapr2cfrqcS2.b1/houcsapr2cfrqcS2.b1.20220701.192603.nc')"
   ]
  },
  {
   "cell_type": "code",
   "execution_count": null,
   "metadata": {
    "id": "A1qwSJkufy4w"
   },
   "outputs": [],
   "source": [
    "display = pyart.graph.RadarDisplay(radar)\n",
    "fig = plt.figure(figsize=[7,6])\n",
    "\n",
    "display.plot('reflectivity', 2, vmin=-60, vmax=40.)\n",
    "display.plot_range_rings([20, 40, 60, 80, 100])\n",
    "display.plot_cross_hair(2.)"
   ]
  },
  {
   "cell_type": "markdown",
   "metadata": {
    "id": "kyxvmozULqsj"
   },
   "source": [
    "## Exercise\n",
    "1. Plot an XSACR or KASACR scanning file. \n",
    "\n",
    "2. What do you see in the data?"
   ]
  },
  {
   "cell_type": "code",
   "execution_count": null,
   "metadata": {
    "id": "LXDu17shMGRu"
   },
   "outputs": [],
   "source": []
  }
 ],
 "metadata": {
  "colab": {
   "authorship_tag": "ABX9TyMynR5HXxWxPbBcbOnCggXy",
   "collapsed_sections": [],
   "include_colab_link": true,
   "provenance": [],
   "toc_visible": true
  },
  "kernelspec": {
   "display_name": "Python [conda env:base] *",
   "language": "python",
   "name": "conda-base-py"
  },
  "language_info": {
   "codemirror_mode": {
    "name": "ipython",
    "version": 3
   },
   "file_extension": ".py",
   "mimetype": "text/x-python",
   "name": "python",
   "nbconvert_exporter": "python",
   "pygments_lexer": "ipython3",
   "version": "3.11.6"
  }
 },
 "nbformat": 4,
 "nbformat_minor": 4
}
