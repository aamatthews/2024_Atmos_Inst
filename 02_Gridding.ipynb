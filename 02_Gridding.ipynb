{
 "cells": [
  {
   "cell_type": "code",
   "execution_count": null,
   "metadata": {
    "id": "gIkFPOqCmxPw"
   },
   "outputs": [],
   "source": [
    "import matplotlib.pyplot as plt\n",
    "import numpy as np\n",
    "import pyart\n",
    "import cartopy\n",
    "\n",
    "%matplotlib inline"
   ]
  },
  {
   "cell_type": "markdown",
   "metadata": {
    "id": "WF4u9siVov_9"
   },
   "source": [
    "# Introduction"
   ]
  },
  {
   "cell_type": "markdown",
   "metadata": {
    "id": "r2TQb9eeo0l6"
   },
   "source": [
    "One thing that can be very useful when using radar data is gridding - or mapping the radar polar cordinates to a cartesian grid. \n",
    "\n",
    "This can make it easier to compare the radar with other instruments. It is also helpful when you want to incorporate radar data into models, or compare with model output."
   ]
  },
  {
   "cell_type": "markdown",
   "metadata": {
    "id": "Q1udCzScwwBt"
   },
   "source": [
    "PyART has a gridding algorithm, which is what I will use to show you this. We will walk through the example shown at: https://arm-doe.github.io/pyart/notebooks/mapping_data_to_a_cartesian_grid.html "
   ]
  },
  {
   "cell_type": "markdown",
   "metadata": {
    "id": "KNdmmtmRxLqt"
   },
   "source": [
    "# Gridding"
   ]
  },
  {
   "cell_type": "markdown",
   "metadata": {
    "id": "dCQ9CHlzmorK"
   },
   "source": [
    "Let's start by reading in the data."
   ]
  },
  {
   "cell_type": "code",
   "execution_count": null,
   "metadata": {
    "id": "svuYdK7UoySL"
   },
   "outputs": [],
   "source": [
    "radar = pyart.io.read('houcsapr2cfrqcS2.b1/houcsapr2cfrqcS2.b1.20220701.192603.nc')"
   ]
  },
  {
   "cell_type": "markdown",
   "metadata": {
    "id": "pfLlQSLDxEB7"
   },
   "source": [
    "Next, lets create the grid object from the radar object, and plot it.\n",
    "\n",
    "Grid shape is the amount of points within a dimension. \n",
    "\n",
    "Grid limits is the dimension limits in meters."
   ]
  },
  {
   "cell_type": "code",
   "execution_count": null,
   "metadata": {
    "id": "8OQBH7ezmudB"
   },
   "outputs": [],
   "source": [
    "grid = pyart.map.grid_from_radars(radar, grid_shape=(41, 201, 201), \n",
    "                                  grid_limits=((0.,20000,), (-100000., 100000.), (-100000, 100000.)))"
   ]
  },
  {
   "cell_type": "code",
   "execution_count": null,
   "metadata": {
    "id": "gWmvqvyGrD5G"
   },
   "outputs": [],
   "source": [
    "fig = plt.figure(figsize=[8, 8])\n",
    "display = pyart.graph.GridMapDisplay(grid)\n",
    "display.plot_grid('reflectivity', level=1, vmin=-20, vmax=60)"
   ]
  },
  {
   "cell_type": "markdown",
   "metadata": {
    "id": "6s1LjQvczEbm"
   },
   "source": [
    "## Exercise"
   ]
  },
  {
   "cell_type": "markdown",
   "metadata": {
    "id": "1DycewBVzG5C"
   },
   "source": [
    "1. In the above plot, change the level around. What do you see happening? Why is this happening?"
   ]
  },
  {
   "cell_type": "markdown",
   "metadata": {
    "id": "RyGKdWhhzO5A"
   },
   "source": [
    "## Pseudo-RHIs\n",
    "\n"
   ]
  },
  {
   "cell_type": "markdown",
   "metadata": {
    "id": "mtIBm9V2yPvL"
   },
   "source": [
    "From this gridded data, we can make pseudo-RHIs through the gridded PPI data at any latitude or longitude we want. \n",
    "\n",
    "Below is a latitude slice, but we can change 'latitude' to 'longitude' to grab a longitudinal slice instead."
   ]
  },
  {
   "cell_type": "code",
   "execution_count": null,
   "metadata": {
    "id": "gmRxJYXyuNcS"
   },
   "outputs": [],
   "source": [
    "display.plot_latitude_slice('reflectivity', lat=29.76, vmin=0, vmax=60)\n",
    "plt.xlim([-100, 100])"
   ]
  },
  {
   "cell_type": "code",
   "execution_count": null,
   "metadata": {
    "id": "ZR2YSnX0yjLe"
   },
   "outputs": [],
   "source": [
    "display.plot_longitude_slice('reflectivity', lon=-94.9, vmin=0, vmax=60)\n",
    "plt.xlim([-100, 100])"
   ]
  },
  {
   "cell_type": "markdown",
   "metadata": {
    "id": "8DFDP8YzzbhD"
   },
   "source": [
    "## A better grid?"
   ]
  },
  {
   "cell_type": "markdown",
   "metadata": {
    "id": "Eb9NkGXtyeQN"
   },
   "source": [
    "You can also change the weighting funtion and radius used when gridding to try to get a better grid. \n",
    "\n",
    "There is often an issue with radars that have higher elevation scans that when you go higher there start to be more gaps in the data, which is made more noticeable in the gridded data. Our radar's PPIs for this campaign are focused at lower levels so we don't have many issues showing up in the gridded data."
   ]
  },
  {
   "cell_type": "code",
   "execution_count": null,
   "metadata": {
    "id": "kEvY6zBywPBd"
   },
   "outputs": [],
   "source": [
    "grid_better = pyart.map.grid_from_radars(\n",
    "    radar, grid_shape=(41, 201, 201), \n",
    "    grid_limits=((0.,20000,), (-100000., 100000.), (-100000, 100000.)),\n",
    "    roi_func='dist_beam', min_radius=1750.0, weighting_function='cressman')"
   ]
  },
  {
   "cell_type": "code",
   "execution_count": null,
   "metadata": {
    "id": "lhToc5qIwcw9"
   },
   "outputs": [],
   "source": [
    "display = pyart.graph.GridMapDisplay(grid_better)\n",
    "display.plot_latitude_slice('reflectivity', lat=29.76, vmin=0, vmax=60)\n",
    "plt.xlim([-100, 100])"
   ]
  },
  {
   "cell_type": "markdown",
   "metadata": {
    "id": "sdm0O1DCz6zO"
   },
   "source": [
    "## Exercise\n",
    "1. Grab one of the SACR PPI files and grid it. \n",
    "2. Take that gridded data and plot a latitude or longitude slice."
   ]
  },
  {
   "cell_type": "markdown",
   "metadata": {
    "id": "u8I0F_kb0KLt"
   },
   "source": [
    "### Solution"
   ]
  },
  {
   "cell_type": "code",
   "execution_count": null,
   "metadata": {
    "id": "RxVRIlQGwlBq"
   },
   "outputs": [],
   "source": [
    "sacr = pyart.io.read('houxsacrcfrqcM1.b1/houxsacrcfrqcM1.b1.20220701.192929.nc')"
   ]
  },
  {
   "cell_type": "code",
   "execution_count": null,
   "metadata": {
    "id": "umPAiWM90UP8"
   },
   "outputs": [],
   "source": [
    "sacr.scan_type"
   ]
  },
  {
   "cell_type": "code",
   "execution_count": null,
   "metadata": {
    "id": "_edtGv3n0y9v"
   },
   "outputs": [],
   "source": [
    "sacr.sweep_number['data']"
   ]
  },
  {
   "cell_type": "code",
   "execution_count": null,
   "metadata": {
    "id": "S5w5ywF30VNK"
   },
   "outputs": [],
   "source": [
    "grid = pyart.map.grid_from_radars(sacr, grid_shape=(41, 201, 201), \n",
    "                                  grid_limits=((0.,20000,), (-25000., 25000.), (-25000, 25000.)))"
   ]
  },
  {
   "cell_type": "code",
   "execution_count": null,
   "metadata": {
    "id": "6d-4Bbdk0fuK"
   },
   "outputs": [],
   "source": [
    "fig = plt.figure(figsize=[8, 8])\n",
    "display = pyart.graph.GridMapDisplay(grid)\n",
    "display.plot_grid('reflectivity', level=1, vmin=-20, vmax=60)"
   ]
  },
  {
   "cell_type": "code",
   "execution_count": null,
   "metadata": {
    "id": "O5zac1Lr0j6T"
   },
   "outputs": [],
   "source": []
  }
 ],
 "metadata": {
  "colab": {
   "authorship_tag": "ABX9TyMjHT31drRaGSbGDY1Mubtu",
   "include_colab_link": true,
   "provenance": []
  },
  "kernelspec": {
   "display_name": "Python [conda env:base] *",
   "language": "python",
   "name": "conda-base-py"
  },
  "language_info": {
   "codemirror_mode": {
    "name": "ipython",
    "version": 3
   },
   "file_extension": ".py",
   "mimetype": "text/x-python",
   "name": "python",
   "nbconvert_exporter": "python",
   "pygments_lexer": "ipython3",
   "version": "3.11.6"
  }
 },
 "nbformat": 4,
 "nbformat_minor": 4
}
